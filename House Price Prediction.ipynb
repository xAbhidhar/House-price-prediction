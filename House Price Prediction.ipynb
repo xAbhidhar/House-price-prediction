{
  "cells": [
    {
      "metadata": {
        "_uuid": "7c9c4a0fbb902735a4c7009c48c69895218f7105",
        "_cell_guid": "35390c2c-2f59-4443-ac68-053195628629"
      },
      "cell_type": "markdown",
      "source": "# Load libraries"
    },
    {
      "metadata": {
        "_cell_guid": "349c6820-55d4-4cd0-9fe8-4bc45948a599",
        "_uuid": "2e9f65b6b1c1e32e1a1bd1249d171e1b656bb2fc",
        "trusted": true,
        "_execution_state": "idle"
      },
      "cell_type": "code",
      "source": "# Importing Libraries\n\nimport numpy\nfrom numpy import arange\nfrom matplotlib import pyplot\nimport seaborn as sns\nimport pandas as pd\nfrom pandas import read_csv\nfrom pandas import set_option\nfrom pandas.tools.plotting import scatter_matrix\nfrom sklearn.preprocessing import StandardScaler\nfrom sklearn.model_selection import train_test_split\nfrom sklearn.model_selection import KFold\nfrom sklearn.model_selection import cross_val_score\nfrom sklearn.model_selection import GridSearchCV\nfrom sklearn.linear_model import LinearRegression\nfrom sklearn.linear_model import Lasso\nfrom sklearn.linear_model import ElasticNet\nfrom sklearn.tree import DecisionTreeRegressor\nfrom sklearn.neighbors import KNeighborsRegressor\nfrom sklearn.svm import SVR\nfrom sklearn.pipeline import Pipeline\nfrom sklearn.ensemble import RandomForestRegressor\nfrom sklearn.ensemble import GradientBoostingRegressor\nfrom sklearn.ensemble import ExtraTreesRegressor\nfrom sklearn.ensemble import AdaBoostRegressor\nfrom sklearn.metrics import mean_squared_error\n",
      "execution_count": 1,
      "outputs": []
    },
    {
      "metadata": {
        "collapsed": true,
        "_cell_guid": "7128f5c7-5a18-4073-b3a3-5d340772be3a",
        "_uuid": "410e54d14d9e195158b5fb7f2804cc054b04488c",
        "_execution_state": "idle"
      },
      "cell_type": "markdown",
      "source": "# Load dataset"
    },
    {
      "metadata": {
        "_cell_guid": "f129289e-daf2-496c-8b02-484df6b0e17b",
        "_uuid": "2ee4e998eb2914fcf79ed1a9d11dbec5ad5655ca",
        "trusted": true,
        "_execution_state": "idle"
      },
      "cell_type": "code",
      "source": "# Reading the csv file for data\nfilename = (\"../input/housing.csv\")\nnames = ['CRIM', 'ZN', 'INDUS', 'CHAS', 'NOX', 'RM', 'AGE', 'DIS', 'RAD', 'TAX', 'PTRATIO', 'B', 'LSTAT', 'MEDV']\ndataset = read_csv(filename, delim_whitespace=True, names=names)\n\n",
      "execution_count": 2,
      "outputs": []
    },
    {
      "metadata": {
        "_uuid": "d3d8fbf3460b43990555956ad419b35aab56d5f3",
        "_cell_guid": "406a8b76-8bf6-4a4e-937f-8e5b1a696287",
        "_execution_state": "idle"
      },
      "cell_type": "markdown",
      "source": "# Summarize Data\nno of rows and coloumns"
    },
    {
      "metadata": {
        "_uuid": "6f1797c6d2d1d634ae2b0ac8421963fc33fcd2df",
        "_cell_guid": "e3f26feb-5ff7-4c4b-ba70-4978c5acb7ac",
        "trusted": true,
        "_execution_state": "idle"
      },
      "cell_type": "code",
      "source": "# Let us start exploring the data and see its shape\nprint(dataset.shape)\n\n\n\n",
      "execution_count": 3,
      "outputs": [
        {
          "output_type": "stream",
          "text": "(506, 14)\n",
          "name": "stdout"
        }
      ]
    },
    {
      "metadata": {
        "_uuid": "59c1e02fafc5f2ebd3aa30c0337a7cf45a615a12",
        "_cell_guid": "0e620983-ec0f-4481-9319-a09e41dd9236",
        "trusted": true
      },
      "cell_type": "code",
      "source": "# Exploring more about the data and seeing what are the different data types\ndataset.dtypes",
      "execution_count": 4,
      "outputs": [
        {
          "output_type": "execute_result",
          "execution_count": 4,
          "data": {
            "text/plain": "CRIM       float64\nZN         float64\nINDUS      float64\nCHAS         int64\nNOX        float64\nRM         float64\nAGE        float64\nDIS        float64\nRAD          int64\nTAX        float64\nPTRATIO    float64\nB          float64\nLSTAT      float64\nMEDV       float64\ndtype: object"
          },
          "metadata": {}
        }
      ]
    },
    {
      "metadata": {
        "_uuid": "2e5e0d8656503b0c5912c6e360eeb157c9f14c68",
        "_cell_guid": "cd2c2d1b-8968-4163-b16f-c2f3f442c1cb",
        "trusted": true
      },
      "cell_type": "code",
      "source": "# Lets have a look to actual data values\ndataset.head(20)\n\n",
      "execution_count": 5,
      "outputs": [
        {
          "output_type": "execute_result",
          "execution_count": 5,
          "data": {
            "text/plain": "       CRIM    ZN  INDUS  CHAS    NOX  ...     TAX  PTRATIO       B  LSTAT  MEDV\n0   0.00632  18.0   2.31     0  0.538  ...   296.0     15.3  396.90   4.98  24.0\n1   0.02731   0.0   7.07     0  0.469  ...   242.0     17.8  396.90   9.14  21.6\n2   0.02729   0.0   7.07     0  0.469  ...   242.0     17.8  392.83   4.03  34.7\n3   0.03237   0.0   2.18     0  0.458  ...   222.0     18.7  394.63   2.94  33.4\n4   0.06905   0.0   2.18     0  0.458  ...   222.0     18.7  396.90   5.33  36.2\n5   0.02985   0.0   2.18     0  0.458  ...   222.0     18.7  394.12   5.21  28.7\n6   0.08829  12.5   7.87     0  0.524  ...   311.0     15.2  395.60  12.43  22.9\n7   0.14455  12.5   7.87     0  0.524  ...   311.0     15.2  396.90  19.15  27.1\n8   0.21124  12.5   7.87     0  0.524  ...   311.0     15.2  386.63  29.93  16.5\n9   0.17004  12.5   7.87     0  0.524  ...   311.0     15.2  386.71  17.10  18.9\n10  0.22489  12.5   7.87     0  0.524  ...   311.0     15.2  392.52  20.45  15.0\n11  0.11747  12.5   7.87     0  0.524  ...   311.0     15.2  396.90  13.27  18.9\n12  0.09378  12.5   7.87     0  0.524  ...   311.0     15.2  390.50  15.71  21.7\n13  0.62976   0.0   8.14     0  0.538  ...   307.0     21.0  396.90   8.26  20.4\n14  0.63796   0.0   8.14     0  0.538  ...   307.0     21.0  380.02  10.26  18.2\n15  0.62739   0.0   8.14     0  0.538  ...   307.0     21.0  395.62   8.47  19.9\n16  1.05393   0.0   8.14     0  0.538  ...   307.0     21.0  386.85   6.58  23.1\n17  0.78420   0.0   8.14     0  0.538  ...   307.0     21.0  386.75  14.67  17.5\n18  0.80271   0.0   8.14     0  0.538  ...   307.0     21.0  288.99  11.69  20.2\n19  0.72580   0.0   8.14     0  0.538  ...   307.0     21.0  390.95  11.28  18.2\n\n[20 rows x 14 columns]",
            "text/html": "<div>\n<style scoped>\n    .dataframe tbody tr th:only-of-type {\n        vertical-align: middle;\n    }\n\n    .dataframe tbody tr th {\n        vertical-align: top;\n    }\n\n    .dataframe thead th {\n        text-align: right;\n    }\n</style>\n<table border=\"1\" class=\"dataframe\">\n  <thead>\n    <tr style=\"text-align: right;\">\n      <th></th>\n      <th>CRIM</th>\n      <th>ZN</th>\n      <th>INDUS</th>\n      <th>CHAS</th>\n      <th>NOX</th>\n      <th>RM</th>\n      <th>AGE</th>\n      <th>DIS</th>\n      <th>RAD</th>\n      <th>TAX</th>\n      <th>PTRATIO</th>\n      <th>B</th>\n      <th>LSTAT</th>\n      <th>MEDV</th>\n    </tr>\n  </thead>\n  <tbody>\n    <tr>\n      <th>0</th>\n      <td>0.00632</td>\n      <td>18.0</td>\n      <td>2.31</td>\n      <td>0</td>\n      <td>0.538</td>\n      <td>6.575</td>\n      <td>65.2</td>\n      <td>4.0900</td>\n      <td>1</td>\n      <td>296.0</td>\n      <td>15.3</td>\n      <td>396.90</td>\n      <td>4.98</td>\n      <td>24.0</td>\n    </tr>\n    <tr>\n      <th>1</th>\n      <td>0.02731</td>\n      <td>0.0</td>\n      <td>7.07</td>\n      <td>0</td>\n      <td>0.469</td>\n      <td>6.421</td>\n      <td>78.9</td>\n      <td>4.9671</td>\n      <td>2</td>\n      <td>242.0</td>\n      <td>17.8</td>\n      <td>396.90</td>\n      <td>9.14</td>\n      <td>21.6</td>\n    </tr>\n    <tr>\n      <th>2</th>\n      <td>0.02729</td>\n      <td>0.0</td>\n      <td>7.07</td>\n      <td>0</td>\n      <td>0.469</td>\n      <td>7.185</td>\n      <td>61.1</td>\n      <td>4.9671</td>\n      <td>2</td>\n      <td>242.0</td>\n      <td>17.8</td>\n      <td>392.83</td>\n      <td>4.03</td>\n      <td>34.7</td>\n    </tr>\n    <tr>\n      <th>3</th>\n      <td>0.03237</td>\n      <td>0.0</td>\n      <td>2.18</td>\n      <td>0</td>\n      <td>0.458</td>\n      <td>6.998</td>\n      <td>45.8</td>\n      <td>6.0622</td>\n      <td>3</td>\n      <td>222.0</td>\n      <td>18.7</td>\n      <td>394.63</td>\n      <td>2.94</td>\n      <td>33.4</td>\n    </tr>\n    <tr>\n      <th>4</th>\n      <td>0.06905</td>\n      <td>0.0</td>\n      <td>2.18</td>\n      <td>0</td>\n      <td>0.458</td>\n      <td>7.147</td>\n      <td>54.2</td>\n      <td>6.0622</td>\n      <td>3</td>\n      <td>222.0</td>\n      <td>18.7</td>\n      <td>396.90</td>\n      <td>5.33</td>\n      <td>36.2</td>\n    </tr>\n    <tr>\n      <th>5</th>\n      <td>0.02985</td>\n      <td>0.0</td>\n      <td>2.18</td>\n      <td>0</td>\n      <td>0.458</td>\n      <td>6.430</td>\n      <td>58.7</td>\n      <td>6.0622</td>\n      <td>3</td>\n      <td>222.0</td>\n      <td>18.7</td>\n      <td>394.12</td>\n      <td>5.21</td>\n      <td>28.7</td>\n    </tr>\n    <tr>\n      <th>6</th>\n      <td>0.08829</td>\n      <td>12.5</td>\n      <td>7.87</td>\n      <td>0</td>\n      <td>0.524</td>\n      <td>6.012</td>\n      <td>66.6</td>\n      <td>5.5605</td>\n      <td>5</td>\n      <td>311.0</td>\n      <td>15.2</td>\n      <td>395.60</td>\n      <td>12.43</td>\n      <td>22.9</td>\n    </tr>\n    <tr>\n      <th>7</th>\n      <td>0.14455</td>\n      <td>12.5</td>\n      <td>7.87</td>\n      <td>0</td>\n      <td>0.524</td>\n      <td>6.172</td>\n      <td>96.1</td>\n      <td>5.9505</td>\n      <td>5</td>\n      <td>311.0</td>\n      <td>15.2</td>\n      <td>396.90</td>\n      <td>19.15</td>\n      <td>27.1</td>\n    </tr>\n    <tr>\n      <th>8</th>\n      <td>0.21124</td>\n      <td>12.5</td>\n      <td>7.87</td>\n      <td>0</td>\n      <td>0.524</td>\n      <td>5.631</td>\n      <td>100.0</td>\n      <td>6.0821</td>\n      <td>5</td>\n      <td>311.0</td>\n      <td>15.2</td>\n      <td>386.63</td>\n      <td>29.93</td>\n      <td>16.5</td>\n    </tr>\n    <tr>\n      <th>9</th>\n      <td>0.17004</td>\n      <td>12.5</td>\n      <td>7.87</td>\n      <td>0</td>\n      <td>0.524</td>\n      <td>6.004</td>\n      <td>85.9</td>\n      <td>6.5921</td>\n      <td>5</td>\n      <td>311.0</td>\n      <td>15.2</td>\n      <td>386.71</td>\n      <td>17.10</td>\n      <td>18.9</td>\n    </tr>\n    <tr>\n      <th>10</th>\n      <td>0.22489</td>\n      <td>12.5</td>\n      <td>7.87</td>\n      <td>0</td>\n      <td>0.524</td>\n      <td>6.377</td>\n      <td>94.3</td>\n      <td>6.3467</td>\n      <td>5</td>\n      <td>311.0</td>\n      <td>15.2</td>\n      <td>392.52</td>\n      <td>20.45</td>\n      <td>15.0</td>\n    </tr>\n    <tr>\n      <th>11</th>\n      <td>0.11747</td>\n      <td>12.5</td>\n      <td>7.87</td>\n      <td>0</td>\n      <td>0.524</td>\n      <td>6.009</td>\n      <td>82.9</td>\n      <td>6.2267</td>\n      <td>5</td>\n      <td>311.0</td>\n      <td>15.2</td>\n      <td>396.90</td>\n      <td>13.27</td>\n      <td>18.9</td>\n    </tr>\n    <tr>\n      <th>12</th>\n      <td>0.09378</td>\n      <td>12.5</td>\n      <td>7.87</td>\n      <td>0</td>\n      <td>0.524</td>\n      <td>5.889</td>\n      <td>39.0</td>\n      <td>5.4509</td>\n      <td>5</td>\n      <td>311.0</td>\n      <td>15.2</td>\n      <td>390.50</td>\n      <td>15.71</td>\n      <td>21.7</td>\n    </tr>\n    <tr>\n      <th>13</th>\n      <td>0.62976</td>\n      <td>0.0</td>\n      <td>8.14</td>\n      <td>0</td>\n      <td>0.538</td>\n      <td>5.949</td>\n      <td>61.8</td>\n      <td>4.7075</td>\n      <td>4</td>\n      <td>307.0</td>\n      <td>21.0</td>\n      <td>396.90</td>\n      <td>8.26</td>\n      <td>20.4</td>\n    </tr>\n    <tr>\n      <th>14</th>\n      <td>0.63796</td>\n      <td>0.0</td>\n      <td>8.14</td>\n      <td>0</td>\n      <td>0.538</td>\n      <td>6.096</td>\n      <td>84.5</td>\n      <td>4.4619</td>\n      <td>4</td>\n      <td>307.0</td>\n      <td>21.0</td>\n      <td>380.02</td>\n      <td>10.26</td>\n      <td>18.2</td>\n    </tr>\n    <tr>\n      <th>15</th>\n      <td>0.62739</td>\n      <td>0.0</td>\n      <td>8.14</td>\n      <td>0</td>\n      <td>0.538</td>\n      <td>5.834</td>\n      <td>56.5</td>\n      <td>4.4986</td>\n      <td>4</td>\n      <td>307.0</td>\n      <td>21.0</td>\n      <td>395.62</td>\n      <td>8.47</td>\n      <td>19.9</td>\n    </tr>\n    <tr>\n      <th>16</th>\n      <td>1.05393</td>\n      <td>0.0</td>\n      <td>8.14</td>\n      <td>0</td>\n      <td>0.538</td>\n      <td>5.935</td>\n      <td>29.3</td>\n      <td>4.4986</td>\n      <td>4</td>\n      <td>307.0</td>\n      <td>21.0</td>\n      <td>386.85</td>\n      <td>6.58</td>\n      <td>23.1</td>\n    </tr>\n    <tr>\n      <th>17</th>\n      <td>0.78420</td>\n      <td>0.0</td>\n      <td>8.14</td>\n      <td>0</td>\n      <td>0.538</td>\n      <td>5.990</td>\n      <td>81.7</td>\n      <td>4.2579</td>\n      <td>4</td>\n      <td>307.0</td>\n      <td>21.0</td>\n      <td>386.75</td>\n      <td>14.67</td>\n      <td>17.5</td>\n    </tr>\n    <tr>\n      <th>18</th>\n      <td>0.80271</td>\n      <td>0.0</td>\n      <td>8.14</td>\n      <td>0</td>\n      <td>0.538</td>\n      <td>5.456</td>\n      <td>36.6</td>\n      <td>3.7965</td>\n      <td>4</td>\n      <td>307.0</td>\n      <td>21.0</td>\n      <td>288.99</td>\n      <td>11.69</td>\n      <td>20.2</td>\n    </tr>\n    <tr>\n      <th>19</th>\n      <td>0.72580</td>\n      <td>0.0</td>\n      <td>8.14</td>\n      <td>0</td>\n      <td>0.538</td>\n      <td>5.727</td>\n      <td>69.5</td>\n      <td>3.7965</td>\n      <td>4</td>\n      <td>307.0</td>\n      <td>21.0</td>\n      <td>390.95</td>\n      <td>11.28</td>\n      <td>18.2</td>\n    </tr>\n  </tbody>\n</table>\n</div>"
          },
          "metadata": {}
        }
      ]
    },
    {
      "metadata": {
        "_uuid": "31ed5b926eaf2d6d56ce84869ec03749297d6e53",
        "_cell_guid": "3c5af1fb-da04-4e95-933a-4bd5c1a28ecb",
        "trusted": true,
        "scrolled": true
      },
      "cell_type": "code",
      "source": "set_option('precision', 1)\ndataset.describe()",
      "execution_count": 6,
      "outputs": [
        {
          "output_type": "execute_result",
          "execution_count": 6,
          "data": {
            "text/plain": "          CRIM     ZN  INDUS     CHAS  ...    PTRATIO      B  LSTAT   MEDV\ncount  5.1e+02  506.0  506.0  5.1e+02  ...      506.0  506.0  506.0  506.0\nmean   3.6e+00   11.4   11.1  6.9e-02  ...       18.5  356.7   12.7   22.5\nstd    8.6e+00   23.3    6.9  2.5e-01  ...        2.2   91.3    7.1    9.2\nmin    6.3e-03    0.0    0.5  0.0e+00  ...       12.6    0.3    1.7    5.0\n25%    8.2e-02    0.0    5.2  0.0e+00  ...       17.4  375.4    6.9   17.0\n50%    2.6e-01    0.0    9.7  0.0e+00  ...       19.1  391.4   11.4   21.2\n75%    3.7e+00   12.5   18.1  0.0e+00  ...       20.2  396.2   17.0   25.0\nmax    8.9e+01  100.0   27.7  1.0e+00  ...       22.0  396.9   38.0   50.0\n\n[8 rows x 14 columns]",
            "text/html": "<div>\n<style scoped>\n    .dataframe tbody tr th:only-of-type {\n        vertical-align: middle;\n    }\n\n    .dataframe tbody tr th {\n        vertical-align: top;\n    }\n\n    .dataframe thead th {\n        text-align: right;\n    }\n</style>\n<table border=\"1\" class=\"dataframe\">\n  <thead>\n    <tr style=\"text-align: right;\">\n      <th></th>\n      <th>CRIM</th>\n      <th>ZN</th>\n      <th>INDUS</th>\n      <th>CHAS</th>\n      <th>NOX</th>\n      <th>RM</th>\n      <th>AGE</th>\n      <th>DIS</th>\n      <th>RAD</th>\n      <th>TAX</th>\n      <th>PTRATIO</th>\n      <th>B</th>\n      <th>LSTAT</th>\n      <th>MEDV</th>\n    </tr>\n  </thead>\n  <tbody>\n    <tr>\n      <th>count</th>\n      <td>5.1e+02</td>\n      <td>506.0</td>\n      <td>506.0</td>\n      <td>5.1e+02</td>\n      <td>506.0</td>\n      <td>506.0</td>\n      <td>506.0</td>\n      <td>506.0</td>\n      <td>506.0</td>\n      <td>506.0</td>\n      <td>506.0</td>\n      <td>506.0</td>\n      <td>506.0</td>\n      <td>506.0</td>\n    </tr>\n    <tr>\n      <th>mean</th>\n      <td>3.6e+00</td>\n      <td>11.4</td>\n      <td>11.1</td>\n      <td>6.9e-02</td>\n      <td>0.6</td>\n      <td>6.3</td>\n      <td>68.6</td>\n      <td>3.8</td>\n      <td>9.5</td>\n      <td>408.2</td>\n      <td>18.5</td>\n      <td>356.7</td>\n      <td>12.7</td>\n      <td>22.5</td>\n    </tr>\n    <tr>\n      <th>std</th>\n      <td>8.6e+00</td>\n      <td>23.3</td>\n      <td>6.9</td>\n      <td>2.5e-01</td>\n      <td>0.1</td>\n      <td>0.7</td>\n      <td>28.1</td>\n      <td>2.1</td>\n      <td>8.7</td>\n      <td>168.5</td>\n      <td>2.2</td>\n      <td>91.3</td>\n      <td>7.1</td>\n      <td>9.2</td>\n    </tr>\n    <tr>\n      <th>min</th>\n      <td>6.3e-03</td>\n      <td>0.0</td>\n      <td>0.5</td>\n      <td>0.0e+00</td>\n      <td>0.4</td>\n      <td>3.6</td>\n      <td>2.9</td>\n      <td>1.1</td>\n      <td>1.0</td>\n      <td>187.0</td>\n      <td>12.6</td>\n      <td>0.3</td>\n      <td>1.7</td>\n      <td>5.0</td>\n    </tr>\n    <tr>\n      <th>25%</th>\n      <td>8.2e-02</td>\n      <td>0.0</td>\n      <td>5.2</td>\n      <td>0.0e+00</td>\n      <td>0.4</td>\n      <td>5.9</td>\n      <td>45.0</td>\n      <td>2.1</td>\n      <td>4.0</td>\n      <td>279.0</td>\n      <td>17.4</td>\n      <td>375.4</td>\n      <td>6.9</td>\n      <td>17.0</td>\n    </tr>\n    <tr>\n      <th>50%</th>\n      <td>2.6e-01</td>\n      <td>0.0</td>\n      <td>9.7</td>\n      <td>0.0e+00</td>\n      <td>0.5</td>\n      <td>6.2</td>\n      <td>77.5</td>\n      <td>3.2</td>\n      <td>5.0</td>\n      <td>330.0</td>\n      <td>19.1</td>\n      <td>391.4</td>\n      <td>11.4</td>\n      <td>21.2</td>\n    </tr>\n    <tr>\n      <th>75%</th>\n      <td>3.7e+00</td>\n      <td>12.5</td>\n      <td>18.1</td>\n      <td>0.0e+00</td>\n      <td>0.6</td>\n      <td>6.6</td>\n      <td>94.1</td>\n      <td>5.2</td>\n      <td>24.0</td>\n      <td>666.0</td>\n      <td>20.2</td>\n      <td>396.2</td>\n      <td>17.0</td>\n      <td>25.0</td>\n    </tr>\n    <tr>\n      <th>max</th>\n      <td>8.9e+01</td>\n      <td>100.0</td>\n      <td>27.7</td>\n      <td>1.0e+00</td>\n      <td>0.9</td>\n      <td>8.8</td>\n      <td>100.0</td>\n      <td>12.1</td>\n      <td>24.0</td>\n      <td>711.0</td>\n      <td>22.0</td>\n      <td>396.9</td>\n      <td>38.0</td>\n      <td>50.0</td>\n    </tr>\n  </tbody>\n</table>\n</div>"
          },
          "metadata": {}
        }
      ]
    },
    {
      "metadata": {
        "trusted": true,
        "_uuid": "04205617e77efe87c00bdb95edcdbfa2fe8743da"
      },
      "cell_type": "code",
      "source": "# Lets look at the pearson correlation coefficient",
      "execution_count": 9,
      "outputs": []
    },
    {
      "metadata": {
        "_uuid": "b89b6ac8770d4ac7f1d04b59385395bcb5e87f0a",
        "_cell_guid": "f4b294f8-7636-439b-a57d-da584848beb8",
        "trusted": true,
        "_execution_state": "idle"
      },
      "cell_type": "code",
      "source": "# correlation\nset_option('precision', 2)\ndataset.corr(method='pearson')",
      "execution_count": 8,
      "outputs": [
        {
          "output_type": "execute_result",
          "execution_count": 8,
          "data": {
            "text/plain": "         CRIM    ZN  INDUS      CHAS  ...   PTRATIO     B  LSTAT  MEDV\nCRIM     1.00 -0.20   0.41 -5.59e-02  ...      0.29 -0.39   0.46 -0.39\nZN      -0.20  1.00  -0.53 -4.27e-02  ...     -0.39  0.18  -0.41  0.36\nINDUS    0.41 -0.53   1.00  6.29e-02  ...      0.38 -0.36   0.60 -0.48\nCHAS    -0.06 -0.04   0.06  1.00e+00  ...     -0.12  0.05  -0.05  0.18\nNOX      0.42 -0.52   0.76  9.12e-02  ...      0.19 -0.38   0.59 -0.43\nRM      -0.22  0.31  -0.39  9.13e-02  ...     -0.36  0.13  -0.61  0.70\nAGE      0.35 -0.57   0.64  8.65e-02  ...      0.26 -0.27   0.60 -0.38\nDIS     -0.38  0.66  -0.71 -9.92e-02  ...     -0.23  0.29  -0.50  0.25\nRAD      0.63 -0.31   0.60 -7.37e-03  ...      0.46 -0.44   0.49 -0.38\nTAX      0.58 -0.31   0.72 -3.56e-02  ...      0.46 -0.44   0.54 -0.47\nPTRATIO  0.29 -0.39   0.38 -1.22e-01  ...      1.00 -0.18   0.37 -0.51\nB       -0.39  0.18  -0.36  4.88e-02  ...     -0.18  1.00  -0.37  0.33\nLSTAT    0.46 -0.41   0.60 -5.39e-02  ...      0.37 -0.37   1.00 -0.74\nMEDV    -0.39  0.36  -0.48  1.75e-01  ...     -0.51  0.33  -0.74  1.00\n\n[14 rows x 14 columns]",
            "text/html": "<div>\n<style scoped>\n    .dataframe tbody tr th:only-of-type {\n        vertical-align: middle;\n    }\n\n    .dataframe tbody tr th {\n        vertical-align: top;\n    }\n\n    .dataframe thead th {\n        text-align: right;\n    }\n</style>\n<table border=\"1\" class=\"dataframe\">\n  <thead>\n    <tr style=\"text-align: right;\">\n      <th></th>\n      <th>CRIM</th>\n      <th>ZN</th>\n      <th>INDUS</th>\n      <th>CHAS</th>\n      <th>NOX</th>\n      <th>RM</th>\n      <th>AGE</th>\n      <th>DIS</th>\n      <th>RAD</th>\n      <th>TAX</th>\n      <th>PTRATIO</th>\n      <th>B</th>\n      <th>LSTAT</th>\n      <th>MEDV</th>\n    </tr>\n  </thead>\n  <tbody>\n    <tr>\n      <th>CRIM</th>\n      <td>1.00</td>\n      <td>-0.20</td>\n      <td>0.41</td>\n      <td>-5.59e-02</td>\n      <td>0.42</td>\n      <td>-0.22</td>\n      <td>0.35</td>\n      <td>-0.38</td>\n      <td>6.26e-01</td>\n      <td>0.58</td>\n      <td>0.29</td>\n      <td>-0.39</td>\n      <td>0.46</td>\n      <td>-0.39</td>\n    </tr>\n    <tr>\n      <th>ZN</th>\n      <td>-0.20</td>\n      <td>1.00</td>\n      <td>-0.53</td>\n      <td>-4.27e-02</td>\n      <td>-0.52</td>\n      <td>0.31</td>\n      <td>-0.57</td>\n      <td>0.66</td>\n      <td>-3.12e-01</td>\n      <td>-0.31</td>\n      <td>-0.39</td>\n      <td>0.18</td>\n      <td>-0.41</td>\n      <td>0.36</td>\n    </tr>\n    <tr>\n      <th>INDUS</th>\n      <td>0.41</td>\n      <td>-0.53</td>\n      <td>1.00</td>\n      <td>6.29e-02</td>\n      <td>0.76</td>\n      <td>-0.39</td>\n      <td>0.64</td>\n      <td>-0.71</td>\n      <td>5.95e-01</td>\n      <td>0.72</td>\n      <td>0.38</td>\n      <td>-0.36</td>\n      <td>0.60</td>\n      <td>-0.48</td>\n    </tr>\n    <tr>\n      <th>CHAS</th>\n      <td>-0.06</td>\n      <td>-0.04</td>\n      <td>0.06</td>\n      <td>1.00e+00</td>\n      <td>0.09</td>\n      <td>0.09</td>\n      <td>0.09</td>\n      <td>-0.10</td>\n      <td>-7.37e-03</td>\n      <td>-0.04</td>\n      <td>-0.12</td>\n      <td>0.05</td>\n      <td>-0.05</td>\n      <td>0.18</td>\n    </tr>\n    <tr>\n      <th>NOX</th>\n      <td>0.42</td>\n      <td>-0.52</td>\n      <td>0.76</td>\n      <td>9.12e-02</td>\n      <td>1.00</td>\n      <td>-0.30</td>\n      <td>0.73</td>\n      <td>-0.77</td>\n      <td>6.11e-01</td>\n      <td>0.67</td>\n      <td>0.19</td>\n      <td>-0.38</td>\n      <td>0.59</td>\n      <td>-0.43</td>\n    </tr>\n    <tr>\n      <th>RM</th>\n      <td>-0.22</td>\n      <td>0.31</td>\n      <td>-0.39</td>\n      <td>9.13e-02</td>\n      <td>-0.30</td>\n      <td>1.00</td>\n      <td>-0.24</td>\n      <td>0.21</td>\n      <td>-2.10e-01</td>\n      <td>-0.29</td>\n      <td>-0.36</td>\n      <td>0.13</td>\n      <td>-0.61</td>\n      <td>0.70</td>\n    </tr>\n    <tr>\n      <th>AGE</th>\n      <td>0.35</td>\n      <td>-0.57</td>\n      <td>0.64</td>\n      <td>8.65e-02</td>\n      <td>0.73</td>\n      <td>-0.24</td>\n      <td>1.00</td>\n      <td>-0.75</td>\n      <td>4.56e-01</td>\n      <td>0.51</td>\n      <td>0.26</td>\n      <td>-0.27</td>\n      <td>0.60</td>\n      <td>-0.38</td>\n    </tr>\n    <tr>\n      <th>DIS</th>\n      <td>-0.38</td>\n      <td>0.66</td>\n      <td>-0.71</td>\n      <td>-9.92e-02</td>\n      <td>-0.77</td>\n      <td>0.21</td>\n      <td>-0.75</td>\n      <td>1.00</td>\n      <td>-4.95e-01</td>\n      <td>-0.53</td>\n      <td>-0.23</td>\n      <td>0.29</td>\n      <td>-0.50</td>\n      <td>0.25</td>\n    </tr>\n    <tr>\n      <th>RAD</th>\n      <td>0.63</td>\n      <td>-0.31</td>\n      <td>0.60</td>\n      <td>-7.37e-03</td>\n      <td>0.61</td>\n      <td>-0.21</td>\n      <td>0.46</td>\n      <td>-0.49</td>\n      <td>1.00e+00</td>\n      <td>0.91</td>\n      <td>0.46</td>\n      <td>-0.44</td>\n      <td>0.49</td>\n      <td>-0.38</td>\n    </tr>\n    <tr>\n      <th>TAX</th>\n      <td>0.58</td>\n      <td>-0.31</td>\n      <td>0.72</td>\n      <td>-3.56e-02</td>\n      <td>0.67</td>\n      <td>-0.29</td>\n      <td>0.51</td>\n      <td>-0.53</td>\n      <td>9.10e-01</td>\n      <td>1.00</td>\n      <td>0.46</td>\n      <td>-0.44</td>\n      <td>0.54</td>\n      <td>-0.47</td>\n    </tr>\n    <tr>\n      <th>PTRATIO</th>\n      <td>0.29</td>\n      <td>-0.39</td>\n      <td>0.38</td>\n      <td>-1.22e-01</td>\n      <td>0.19</td>\n      <td>-0.36</td>\n      <td>0.26</td>\n      <td>-0.23</td>\n      <td>4.65e-01</td>\n      <td>0.46</td>\n      <td>1.00</td>\n      <td>-0.18</td>\n      <td>0.37</td>\n      <td>-0.51</td>\n    </tr>\n    <tr>\n      <th>B</th>\n      <td>-0.39</td>\n      <td>0.18</td>\n      <td>-0.36</td>\n      <td>4.88e-02</td>\n      <td>-0.38</td>\n      <td>0.13</td>\n      <td>-0.27</td>\n      <td>0.29</td>\n      <td>-4.44e-01</td>\n      <td>-0.44</td>\n      <td>-0.18</td>\n      <td>1.00</td>\n      <td>-0.37</td>\n      <td>0.33</td>\n    </tr>\n    <tr>\n      <th>LSTAT</th>\n      <td>0.46</td>\n      <td>-0.41</td>\n      <td>0.60</td>\n      <td>-5.39e-02</td>\n      <td>0.59</td>\n      <td>-0.61</td>\n      <td>0.60</td>\n      <td>-0.50</td>\n      <td>4.89e-01</td>\n      <td>0.54</td>\n      <td>0.37</td>\n      <td>-0.37</td>\n      <td>1.00</td>\n      <td>-0.74</td>\n    </tr>\n    <tr>\n      <th>MEDV</th>\n      <td>-0.39</td>\n      <td>0.36</td>\n      <td>-0.48</td>\n      <td>1.75e-01</td>\n      <td>-0.43</td>\n      <td>0.70</td>\n      <td>-0.38</td>\n      <td>0.25</td>\n      <td>-3.82e-01</td>\n      <td>-0.47</td>\n      <td>-0.51</td>\n      <td>0.33</td>\n      <td>-0.74</td>\n      <td>1.00</td>\n    </tr>\n  </tbody>\n</table>\n</div>"
          },
          "metadata": {}
        }
      ]
    },
    {
      "metadata": {
        "_uuid": "27d59ba4b7bd382bbc7f3a858a7ba19a9b28091e",
        "_cell_guid": "3a6ae13c-4559-4e75-86fd-61ef040d9fa3"
      },
      "cell_type": "markdown",
      "source": "From Correlation data,\nWe can confim that variable  LSTAT, RM, AGE and PTRATIO have good corelation with our output variable MEDV.\nThese variables we need to consider when we optimze our predictive value"
    },
    {
      "metadata": {
        "_uuid": "07b98d56cd6a85e62273110f6f5d698adc355ab7",
        "_cell_guid": "f1d7499e-2858-4280-8351-21208a6df116",
        "trusted": true,
        "_execution_state": "idle"
      },
      "cell_type": "code",
      "source": "# Data visualizations\n\n# histograms\ndataset.hist(bins=10,figsize=(9,7),grid=False);\n\n\n\n\n\n",
      "execution_count": 10,
      "outputs": [
        {
          "output_type": "display_data",
          "data": {
            "text/plain": "<Figure size 648x504 with 16 Axes>",
            "image/png": "[encoded data removed]"
          },
          "metadata": {}
        }
      ]
    },
    {
      "metadata": {
        "_uuid": "5c20dbaf8657982852ae4b6d625b3f57a1ade102",
        "_cell_guid": "5f0600fc-ecd7-4b83-bb08-5970fcb81d36"
      },
      "cell_type": "markdown",
      "source": "We can see that some variables  have an exponential distribution, such as CRIM, ZN, AGE and B. We can see that others  have a bimodal distribution such as RAD and TAX."
    },
    {
      "metadata": {
        "_uuid": "7c6e3abd3ba737c99fb4f6b0d4f30017c49bc200",
        "_cell_guid": "9018c1cf-cbe1-42ad-832f-72ba1bed49c6"
      },
      "cell_type": "markdown",
      "source": "I do feel features 'RM', 'LSTAT', 'PTRATIO', and 'MEDV' are essential. The remaining non-relevant features have been excluded.\nAnalysis from above  data:\n1)increase in RM value increases MEDV value ie price of the home.\n2) Lower the value of LSTAT higher the value of MEDV\n3) PTRATIO decrease in the value increases MEDV"
    },
    {
      "metadata": {
        "_uuid": "94b9ad7e754cb19da7a93bbd856a6842e00baf46",
        "_cell_guid": "1becb5d1-bd28-4c90-824f-2af12e74b233",
        "trusted": true
      },
      "cell_type": "code",
      "source": "prices = dataset['MEDV']\ndataset = dataset.drop(['CRIM','ZN','INDUS','NOX','AGE','DIS','RAD'], axis = 1)\nfeatures = dataset.drop('MEDV', axis = 1)\ndataset.head()\n#features.head()",
      "execution_count": 11,
      "outputs": [
        {
          "output_type": "execute_result",
          "execution_count": 11,
          "data": {
            "text/plain": "   CHAS    RM    TAX  PTRATIO       B  LSTAT  MEDV\n0     0  6.58  296.0     15.3  396.90   4.98  24.0\n1     0  6.42  242.0     17.8  396.90   9.14  21.6\n2     0  7.18  242.0     17.8  392.83   4.03  34.7\n3     0  7.00  222.0     18.7  394.63   2.94  33.4\n4     0  7.15  222.0     18.7  396.90   5.33  36.2",
            "text/html": "<div>\n<style scoped>\n    .dataframe tbody tr th:only-of-type {\n        vertical-align: middle;\n    }\n\n    .dataframe tbody tr th {\n        vertical-align: top;\n    }\n\n    .dataframe thead th {\n        text-align: right;\n    }\n</style>\n<table border=\"1\" class=\"dataframe\">\n  <thead>\n    <tr style=\"text-align: right;\">\n      <th></th>\n      <th>CHAS</th>\n      <th>RM</th>\n      <th>TAX</th>\n      <th>PTRATIO</th>\n      <th>B</th>\n      <th>LSTAT</th>\n      <th>MEDV</th>\n    </tr>\n  </thead>\n  <tbody>\n    <tr>\n      <th>0</th>\n      <td>0</td>\n      <td>6.58</td>\n      <td>296.0</td>\n      <td>15.3</td>\n      <td>396.90</td>\n      <td>4.98</td>\n      <td>24.0</td>\n    </tr>\n    <tr>\n      <th>1</th>\n      <td>0</td>\n      <td>6.42</td>\n      <td>242.0</td>\n      <td>17.8</td>\n      <td>396.90</td>\n      <td>9.14</td>\n      <td>21.6</td>\n    </tr>\n    <tr>\n      <th>2</th>\n      <td>0</td>\n      <td>7.18</td>\n      <td>242.0</td>\n      <td>17.8</td>\n      <td>392.83</td>\n      <td>4.03</td>\n      <td>34.7</td>\n    </tr>\n    <tr>\n      <th>3</th>\n      <td>0</td>\n      <td>7.00</td>\n      <td>222.0</td>\n      <td>18.7</td>\n      <td>394.63</td>\n      <td>2.94</td>\n      <td>33.4</td>\n    </tr>\n    <tr>\n      <th>4</th>\n      <td>0</td>\n      <td>7.15</td>\n      <td>222.0</td>\n      <td>18.7</td>\n      <td>396.90</td>\n      <td>5.33</td>\n      <td>36.2</td>\n    </tr>\n  </tbody>\n</table>\n</div>"
          },
          "metadata": {}
        }
      ]
    },
    {
      "metadata": {
        "_uuid": "8720a95e509399f5c7710c52c1b691402171dbd3",
        "_cell_guid": "67aa4fbe-bdfb-4b0d-8f8a-c6d7c69ac8ea",
        "trusted": true
      },
      "cell_type": "code",
      "source": "#histogram\n#Lets create histogram \nsns.distplot(dataset['MEDV']);",
      "execution_count": 14,
      "outputs": [
        {
          "output_type": "stream",
          "text": "/opt/conda/lib/python3.6/site-packages/scipy/stats/stats.py:1713: FutureWarning: Using a non-tuple sequence for multidimensional indexing is deprecated; use `arr[tuple(seq)]` instead of `arr[seq]`. In the future this will be interpreted as an array index, `arr[np.array(seq)]`, which will result either in an error or a different result.\n  return np.add.reduce(sorted[indexer] * weights, axis=axis) / sumval\n",
          "name": "stderr"
        },
        {
          "output_type": "display_data",
          "data": {
            "text/plain": "<Figure size 432x288 with 1 Axes>",
            "image/png": "[encoded data removed]"
          },
          "metadata": {}
        }
      ]
    },
    {
      "metadata": {
        "_uuid": "96357a2ef5d8d83547cb426d6b74a2284ef007f4",
        "_cell_guid": "72e69a04-aedd-4f41-aeaa-f97e452f7743"
      },
      "cell_type": "markdown",
      "source": "MEDV is Deviated from the normal distribution, have appreciable positive skewness and showed peakedness."
    },
    {
      "metadata": {
        "_uuid": "3fb47e84a37c123d011d257d1bd73c594e13d2ce",
        "_cell_guid": "68b217e3-c605-41a2-8cb2-3b7dbf4d6653"
      },
      "cell_type": "markdown",
      "source": "Multivariate Visualization"
    },
    {
      "metadata": {
        "_uuid": "4d3fd92f5a2c1df45c198c20cda832746a5ae446",
        "_cell_guid": "f4b71827-3a3a-4f6b-a64a-ea37aab71ce3",
        "trusted": true
      },
      "cell_type": "code",
      "source": "import matplotlib.pyplot as plt\nplt.figure(figsize=(20, 5))\n# i: index\nfor i, col in enumerate(features.columns):\n    # 3 plots here hence 1, 3\n    plt.subplot(1, 6, i+1)\n    x = dataset[col]\n    y = prices\n    plt.plot(x, y, 'o')\n    # Create regression line\n    plt.plot(numpy.unique(x), numpy.poly1d(numpy.polyfit(x, y, 1))(numpy.unique(x)))\n    plt.title(col)\n    plt.xlabel(col)\n    plt.ylabel('prices')",
      "execution_count": null,
      "outputs": []
    },
    {
      "metadata": {
        "_uuid": "c024379718bce3905224b943d73b415a77b6ca53",
        "_cell_guid": "707d4a0c-d707-417f-892c-fece189453f6"
      },
      "cell_type": "markdown",
      "source": "From my analysis, Price increases with RM and Price decreases with increase in PTRATO and LSTAT\n\n\n\n "
    },
    {
      "metadata": {
        "_uuid": "54383511ac75ac18a6c8829f29edd4018dbcb87b",
        "_cell_guid": "08d5411f-55db-4929-af85-24a0698c5bdf",
        "trusted": true
      },
      "cell_type": "code",
      "source": "# box and whisker plots\ndataset.plot(kind='box', subplots=True, layout=(4,4), sharex=False, sharey=False)\npyplot.show()",
      "execution_count": null,
      "outputs": []
    },
    {
      "metadata": {
        "_uuid": "289cdd0d3aa468f35935dba8d8e39bca2d761c2d",
        "_cell_guid": "d3d942b9-2037-4f56-8653-744951874f85",
        "trusted": true,
        "_execution_state": "idle"
      },
      "cell_type": "code",
      "source": "corr=dataset.corr()\nplt.figure(figsize=(10, 10))\nsns.heatmap(corr, vmax=.8, linewidths=0.01,\n            square=True,annot=True,cmap='YlGnBu',linecolor=\"white\")\nplt.title('Correlation between features');",
      "execution_count": null,
      "outputs": []
    },
    {
      "metadata": {
        "_uuid": "6dff0221f531a64b8051ea8b54aeb185c7d530fe",
        "_cell_guid": "73008aa6-6916-4b80-ae36-b8317331ae09"
      },
      "cell_type": "markdown",
      "source": "Variables having strong Corelation with target varible MEDV are RM (.7), LSTAT(-.74), PTRATIO(-.51) \n\n"
    },
    {
      "metadata": {
        "_uuid": "7f86f3f5f613807376940777b45a6fc070381d0b",
        "_cell_guid": "fe854944-454b-4828-9f31-1983caf28bc9"
      },
      "cell_type": "markdown",
      "source": "Check for Missing Value"
    },
    {
      "metadata": {
        "_uuid": "6c0a567a3418f0951ab137a39c7193a4e4bcc187",
        "_cell_guid": "df6c99be-adea-4067-9e21-e9f96f0c5a68"
      },
      "cell_type": "markdown",
      "source": "dataset.isnull().sum().max()"
    },
    {
      "metadata": {
        "_uuid": "64eb53677a398f59d060972fcad4acfa0feb33ae",
        "_cell_guid": "663baebf-4354-4a81-a4ba-8b1c78cbdb42"
      },
      "cell_type": "markdown",
      "source": "No missing Values!!!\n"
    },
    {
      "metadata": {
        "_uuid": "0bbe26801b543efcd1e21e2f5dd351f17370548d",
        "_cell_guid": "3b27ab3e-3c84-4d01-aee9-67b34db69eed"
      },
      "cell_type": "markdown",
      "source": "Feature Engineering"
    },
    {
      "metadata": {
        "_uuid": "47e5b4d0ed0b7e787abdc5787cc65ec44a387ab5",
        "_cell_guid": "2b583e1d-2fd9-45b7-855c-39eabcd8c82d"
      },
      "cell_type": "markdown",
      "source": "1)  Data Standardization"
    },
    {
      "metadata": {
        "_uuid": "8725e24667a9db8a778f558496895336b4b49c86",
        "_cell_guid": "17ed8133-097b-4c16-8e65-6923653f8ebc"
      },
      "cell_type": "markdown",
      "source": ""
    },
    {
      "metadata": {
        "_uuid": "d1ec39eaebfd5e40c0ba61101814cec34ad18036",
        "_cell_guid": "19b64bd8-3704-45ce-add0-f304f93dcec9"
      },
      "cell_type": "markdown",
      "source": "The point here is to test 'MEDV' (Price) in a very lean way. We'll do this paying attention to:\nHistogram - Kurtosis and skewness.\nNormal probability plot - Data distribution should closely follow the diagonal that represents the normal distribution."
    },
    {
      "metadata": {
        "_uuid": "3651d45db936b3c438d2af1ea67436225cd088c1",
        "_cell_guid": "1a1898ee-8210-4f18-ac8d-6b55963b8edd",
        "trusted": true
      },
      "cell_type": "code",
      "source": "from scipy import stats\n#histogram and normal probability plot\nsns.distplot(dataset['MEDV'], hist=True);\nfig = plt.figure()\nres = stats.probplot(dataset['MEDV'], plot=plt)",
      "execution_count": null,
      "outputs": []
    },
    {
      "metadata": {
        "_uuid": "b227315a64f1d2efda00acb20cb86303becbb724",
        "_cell_guid": "311d8ae1-7327-4729-9fb7-cf79d7d9e5e8"
      },
      "cell_type": "markdown",
      "source": " It shows 'peakedness', positive skewness and does not follow the diagonal line.\n A simple data transformation can solve the problem.  Will do in by standardizing the data"
    },
    {
      "metadata": {
        "_uuid": "a37bfe44a94d4a1a0eb98c5bb896842990a786b0",
        "_cell_guid": "b6add07c-9084-4e58-820b-c4444f257116",
        "_execution_state": "idle"
      },
      "cell_type": "markdown",
      "source": "# Prepare Data"
    },
    {
      "metadata": {
        "_uuid": "a552a44e6c553d5558c733feb03bd6d394641749",
        "_cell_guid": "933412df-8b8f-4dbf-bdff-56452f5f5a50",
        "trusted": true,
        "_execution_state": "idle"
      },
      "cell_type": "code",
      "source": "# Split-out validation dataset\narray = dataset.values\nX = array[:,0:6]\nY = array[:,6]\nvalidation_size = 0.20\nseed = 7\nX_train, X_validation, Y_train, Y_validation = train_test_split(X, Y, test_size=validation_size, random_state=seed)\n\n",
      "execution_count": null,
      "outputs": []
    },
    {
      "metadata": {
        "_uuid": "0b26a7c24d07647bdd9d402b77e50d9a1a6e537a",
        "_cell_guid": "55ad12af-3021-4fa8-866a-04b63963c850",
        "_execution_state": "idle"
      },
      "cell_type": "markdown",
      "source": "Evaluate Algorithm"
    },
    {
      "metadata": {
        "_cell_guid": "01098b36-a4fa-4e8e-a15e-928e1fe7a1ee",
        "_uuid": "be7997df654889ae0ba5b548c0e671c63537120b",
        "trusted": true,
        "_execution_state": "idle"
      },
      "cell_type": "code",
      "source": "# Test options and evaluation metric using Root Mean Square error method\nnum_folds = 10\nseed = 7\nRMS = 'neg_mean_squared_error'",
      "execution_count": null,
      "outputs": []
    },
    {
      "metadata": {
        "_cell_guid": "7736047b-e931-47e9-a9f0-8dccaf613e08",
        "_uuid": "c22ef8eea940d2216126ba7cfc29105793cc1173",
        "trusted": true,
        "_execution_state": "idle"
      },
      "cell_type": "code",
      "source": "# Spot Check Algorithms\nmodels = []\nmodels.append(('LR', LinearRegression()))\nmodels.append(('LASSO', Lasso()))\nmodels.append(('EN', ElasticNet()))\nmodels.append(('KNN', KNeighborsRegressor()))\nmodels.append(('CART', DecisionTreeRegressor()))\nmodels.append(('SVR', SVR()))",
      "execution_count": null,
      "outputs": []
    },
    {
      "metadata": {
        "_uuid": "f15daecf33c5f73761a562fe9a1832f15a6295e5",
        "_cell_guid": "ffff9a86-312f-456a-b707-f78373bd243b",
        "_execution_state": "idle"
      },
      "cell_type": "markdown",
      "source": "# evaluate each model in turn"
    },
    {
      "metadata": {
        "_uuid": "0a2929fbcaf8388b0df7520dbef7c1b22c06ee50",
        "_cell_guid": "1a75a781-ae3d-4161-b208-80f1064daf9b",
        "trusted": true,
        "_execution_state": "idle"
      },
      "cell_type": "code",
      "source": "results = []\nnames = []\nfor name, model in models:\n    kfold = KFold(n_splits=num_folds, random_state=seed)\n    cv_results = cross_val_score(model, X_train, Y_train, cv=kfold, scoring=RMS)\n    results.append(cv_results)\n    names.append(name)\n    msg = \"%s: %f (%f)\" % (name, cv_results.mean(), cv_results.std())\n    print(msg)",
      "execution_count": null,
      "outputs": []
    },
    {
      "metadata": {
        "_uuid": "6e74a817cb45dea0f4ab0f9d079e597c8f665f15",
        "_cell_guid": "4db591f3-127d-446c-bd87-eac31e76eef7",
        "_execution_state": "idle"
      },
      "cell_type": "markdown",
      "source": "# Compare Algorithms"
    },
    {
      "metadata": {
        "_uuid": "a9fbf0e3e4d81dce1cf101894e944c33ce761b37",
        "_cell_guid": "30b6c401-01f0-489c-92ed-83dc28af4276",
        "trusted": true,
        "_execution_state": "idle",
        "scrolled": true
      },
      "cell_type": "code",
      "source": "fig = pyplot.figure()\nfig.suptitle('Algorithm Comparison')\nax = fig.add_subplot(111)\npyplot.boxplot(results)\nax.set_xticklabels(names)\npyplot.show()",
      "execution_count": null,
      "outputs": []
    },
    {
      "metadata": {
        "_uuid": "88a806db0e2044f4312db24e72e7dbcccfeb8921",
        "_cell_guid": "1b97fb18-351a-47d0-b7eb-12d796f5034f",
        "_execution_state": "idle"
      },
      "cell_type": "markdown",
      "source": "# Standardize the dataset\n"
    },
    {
      "metadata": {
        "_uuid": "40d206ce411d4031e07ec9161a295255a589dda2",
        "_cell_guid": "354aa2ae-5e8f-485c-80b8-2f27f828436e",
        "trusted": true,
        "_execution_state": "idle"
      },
      "cell_type": "code",
      "source": "pipelines = []\npipelines.append(('ScaledLR', Pipeline([('Scaler', StandardScaler()),('LR', LinearRegression())])))\npipelines.append(('ScaledLASSO', Pipeline([('Scaler', StandardScaler()),('LASSO', Lasso())])))\npipelines.append(('ScaledEN', Pipeline([('Scaler', StandardScaler()),('EN', ElasticNet())])))\npipelines.append(('ScaledKNN', Pipeline([('Scaler', StandardScaler()),('KNN', KNeighborsRegressor())])))\npipelines.append(('ScaledCART', Pipeline([('Scaler', StandardScaler()),('CART', DecisionTreeRegressor())])))\npipelines.append(('ScaledSVR', Pipeline([('Scaler', StandardScaler()),('SVR', SVR())])))\nresults = []\nnames = []\nfor name, model in pipelines:\n\tkfold = KFold(n_splits=num_folds, random_state=seed)\n\tcv_results = cross_val_score(model, X_train, Y_train, cv=kfold, scoring=RMS)\n\tresults.append(cv_results)\n\tnames.append(name)\n\tmsg = \"%s: %f (%f)\" % (name, cv_results.mean(), cv_results.std())\n\tprint(msg)\n",
      "execution_count": null,
      "outputs": []
    },
    {
      "metadata": {
        "_uuid": "a7affcb23f877aa408c3c93fd4aed1d4654b05e4",
        "_cell_guid": "4c317b5f-9272-441b-9324-68f906a19847"
      },
      "cell_type": "markdown",
      "source": "# Compare Algorithms"
    },
    {
      "metadata": {
        "_uuid": "ac34bed47e088e3e5e00051edae80aabbaaf1e2d",
        "_cell_guid": "097114a3-cecd-4c53-8d56-80f95d778560",
        "trusted": true
      },
      "cell_type": "code",
      "source": "fig = pyplot.figure()\nfig.suptitle('Scaled Algorithm Comparison')\nax = fig.add_subplot(111)\npyplot.boxplot(results)\nax.set_xticklabels(names)\npyplot.show()\n\n",
      "execution_count": null,
      "outputs": []
    },
    {
      "metadata": {
        "_uuid": "c04c39900da9c6fdd6fcc588a1a9f8744f99196f",
        "_cell_guid": "fa1269a5-42e7-4861-8809-d2b07f7f33a8"
      },
      "cell_type": "markdown",
      "source": "# KNN Algorithm tuning"
    },
    {
      "metadata": {
        "_uuid": "766ee53fa371aa5f1a2d20462387c10e58290cf0",
        "_cell_guid": "5ce8edba-999b-4da4-a67a-a4b032139288",
        "trusted": true
      },
      "cell_type": "code",
      "source": "scaler = StandardScaler().fit(X_train)\nrescaledX = scaler.transform(X_train)\nk_values = numpy.array([1,3,5,7,9,11,13,15,17,19,21])\nparam_grid = dict(n_neighbors=k_values)\nmodel = KNeighborsRegressor()\nkfold = KFold(n_splits=num_folds, random_state=seed)\ngrid = GridSearchCV(estimator=model, param_grid=param_grid, scoring=RMS, cv=kfold)\ngrid_result = grid.fit(rescaledX, Y_train)\n\nprint(\"Best: %f using %s\" % (grid_result.best_score_, grid_result.best_params_))\nmeans = grid_result.cv_results_['mean_test_score']\nstds = grid_result.cv_results_['std_test_score']\nparams = grid_result.cv_results_['params']\nfor mean, stdev, param in zip(means, stds, params):\n    print(\"%f (%f) with: %r\" % (mean, stdev, param))\ndataset.shape",
      "execution_count": null,
      "outputs": []
    },
    {
      "metadata": {
        "_uuid": "01edd55eb03434b219607b81e51293919b01536a",
        "_cell_guid": "d0369be9-59e7-48ed-86d7-022c26cd3490"
      },
      "cell_type": "markdown",
      "source": "# ensembles"
    },
    {
      "metadata": {
        "_uuid": "29d403e94513d84dff5ec52542b2cd80b7f3cf0f",
        "_cell_guid": "11f24e8e-099c-40bb-940d-6b1312ded08e",
        "trusted": true
      },
      "cell_type": "code",
      "source": "ensembles = []\nensembles.append(('ScaledKNN', Pipeline([('Scaler', StandardScaler()),('KNN', KNeighborsRegressor())])))\nensembles.append(('ScaledAB', Pipeline([('Scaler', StandardScaler()),('AB', AdaBoostRegressor())])))\nensembles.append(('ScaledGBM', Pipeline([('Scaler', StandardScaler()),('GBM', GradientBoostingRegressor())])))\nensembles.append(('ScaledRF', Pipeline([('Scaler', StandardScaler()),('RF', RandomForestRegressor())])))\nensembles.append(('ScaledET', Pipeline([('Scaler', StandardScaler()),('ET', ExtraTreesRegressor())])))\nresults = []\nnames = []\nfor name, model in ensembles:\n\tkfold = KFold(n_splits=num_folds, random_state=seed)\n\tcv_results = cross_val_score(model, X_train, Y_train, cv=kfold, scoring=RMS)\n\tresults.append(cv_results)\n\tnames.append(name)\n\tmsg = \"%s: %f (%f)\" % (name, cv_results.mean(), cv_results.std())\n\tprint(msg)\ndataset.shape",
      "execution_count": null,
      "outputs": []
    }
  ],
  "metadata": {
    "language_info": {
      "name": "python",
      "version": "3.6.6",
      "mimetype": "text/x-python",
      "codemirror_mode": {
        "name": "ipython",
        "version": 3
      },
      "pygments_lexer": "ipython3",
      "nbconvert_exporter": "python",
      "file_extension": ".py"
    },
    "kernelspec": {
      "display_name": "Python 3",
      "language": "python",
      "name": "python3"
    }
  },
  "nbformat": 4,
  "nbformat_minor": 1
}